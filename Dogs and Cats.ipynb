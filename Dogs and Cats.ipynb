{
 "cells": [
  {
   "cell_type": "code",
   "execution_count": 2,
   "metadata": {},
   "outputs": [],
   "source": [
    "###########################\n",
    "# ONE TIME SETUP FOR DATA #\n",
    "###########################\n",
    "\n",
    "import os, shutil\n",
    "orig_dir = 'C:\\\\Users\\\\Admin\\\\Documents\\\\Coding\\\\Deep Learning With Python\\\\train'\n",
    "base_dir = 'C:\\\\Users\\\\Admin\\\\Documents\\\\Coding\\\\Deep Learning With Python\\\\CatDogSmall'\n",
    "# # os.mkdir(base_dir) # - run once, makes directory\n",
    "train_dir = os.path.join(base_dir,'train')\n",
    "# #os.mkdir(train_dir)\n",
    "validation_dir = os.path.join(base_dir, 'validation')\n",
    "# #os.mkdir(validation_dir)\n",
    "test_dir = os.path.join(base_dir,'test')\n",
    "# #os.mkdir(test_dir)\n",
    "train_cats_dir = os.path.join(train_dir,'cats')\n",
    "train_dogs_dir = os.path.join(train_dir,'dogs')\n",
    "# #os.mkdir(train_cats_dir)\n",
    "# #os.mkdir(train_dogs_dir)\n",
    "validation_cats_dir = os.path.join(validation_dir, 'cats')\n",
    "validation_dogs_dir = os.path.join(validation_dir, 'dogs')\n",
    "# #os.mkdir(validation_cats_dir)\n",
    "# #os.mkdir(validation_dogs_dir)\n",
    "test_cats_dir = os.path.join(test_dir, 'cats')\n",
    "test_dogs_dir = os.path.join(test_dir, 'dogs')\n",
    "#os.mkdir(test_cats_dir)\n",
    "#os.mkdir(test_dogs_dir)\n",
    "# fnames = ['cat.{}.jpg'.format(i) for i in range(1000)]\n",
    "# for fname in fnames:\n",
    "#     src = os.path.join(orig_dir, fname)\n",
    "#     dst = os.path.join(train_cats_dir, fname)\n",
    "#     shutil.copyfile(src,dst)\n",
    "    \n",
    "# fnames = ['cat.{}.jpg'.format(i) for i in range(1000,1500)]\n",
    "# for fname in fnames:\n",
    "#     src = os.path.join(orig_dir, fname)\n",
    "#     dst = os.path.join(validation_cats_dir, fname)\n",
    "#     shutil.copyfile(src,dst)\n",
    "    \n",
    "# fnames = ['cat.{}.jpg'.format(i) for i in range(1500,2000)]\n",
    "# for fname in fnames:\n",
    "#     src = os.path.join(orig_dir, fname)\n",
    "#     dst = os.path.join(test_cats_dir, fname)\n",
    "#     shutil.copyfile(src,dst)\n",
    "    \n",
    "# fnames = ['dog.{}.jpg'.format(i) for i in range(1000)]\n",
    "# for fname in fnames:\n",
    "#     src = os.path.join(orig_dir, fname)\n",
    "#     dst = os.path.join(train_dogs_dir, fname)\n",
    "#     shutil.copyfile(src,dst)\n",
    "    \n",
    "# fnames = ['dog.{}.jpg'.format(i) for i in range(1000,1500)]\n",
    "# for fname in fnames:\n",
    "#     src = os.path.join(orig_dir, fname)\n",
    "#     dst = os.path.join(validation_dogs_dir, fname)\n",
    "#     shutil.copyfile(src,dst)\n",
    "    \n",
    "# fnames = ['dog.{}.jpg'.format(i) for i in range(1500,2000)]\n",
    "# for fname in fnames:\n",
    "#     src = os.path.join(orig_dir, fname)\n",
    "#     dst = os.path.join(test_dogs_dir, fname)\n",
    "#     shutil.copyfile(src,dst)"
   ]
  },
  {
   "cell_type": "code",
   "execution_count": 7,
   "metadata": {},
   "outputs": [
    {
     "name": "stdout",
     "output_type": "stream",
     "text": [
      "_________________________________________________________________\n",
      "Layer (type)                 Output Shape              Param #   \n",
      "=================================================================\n",
      "conv2d_4 (Conv2D)            (None, 48, 48, 32)        896       \n",
      "_________________________________________________________________\n",
      "max_pooling2d_4 (MaxPooling2 (None, 24, 24, 32)        0         \n",
      "_________________________________________________________________\n",
      "conv2d_5 (Conv2D)            (None, 22, 22, 64)        18496     \n",
      "_________________________________________________________________\n",
      "max_pooling2d_5 (MaxPooling2 (None, 11, 11, 64)        0         \n",
      "_________________________________________________________________\n",
      "conv2d_6 (Conv2D)            (None, 9, 9, 64)          36928     \n",
      "_________________________________________________________________\n",
      "max_pooling2d_6 (MaxPooling2 (None, 4, 4, 64)          0         \n",
      "_________________________________________________________________\n",
      "flatten_2 (Flatten)          (None, 1024)              0         \n",
      "_________________________________________________________________\n",
      "dropout_1 (Dropout)          (None, 1024)              0         \n",
      "_________________________________________________________________\n",
      "dense_3 (Dense)              (None, 128)               131200    \n",
      "_________________________________________________________________\n",
      "dense_4 (Dense)              (None, 1)                 129       \n",
      "=================================================================\n",
      "Total params: 187,649\n",
      "Trainable params: 187,649\n",
      "Non-trainable params: 0\n",
      "_________________________________________________________________\n"
     ]
    }
   ],
   "source": [
    "from keras import layers\n",
    "from keras import models\n",
    "input_shape = (50,50,3) # book uses (150,150,3), I'm downsizing due to GPU limitations...\n",
    "model = models.Sequential()\n",
    "model.add(layers.Conv2D(32, (3,3), activation = 'relu', input_shape = input_shape))\n",
    "model.add(layers.MaxPooling2D((2,2)))\n",
    "model.add(layers.Conv2D(64,(3,3), activation = 'relu'))\n",
    "model.add(layers.MaxPooling2D((2,2)))\n",
    "model.add(layers.Conv2D(64,(3,3), activation = 'relu')) # this layer uses 128 filters in the book\n",
    "model.add(layers.MaxPooling2D((2,2)))\n",
    "model.add(layers.Flatten())\n",
    "model.add(layers.Dropout(0.5))\n",
    "model.add(layers.Dense(128, activation = 'relu')) # this layer uses 512 in the book\n",
    "model.add(layers.Dense(1, activation = 'sigmoid'))\n",
    "model.summary()"
   ]
  },
  {
   "cell_type": "code",
   "execution_count": 10,
   "metadata": {
    "collapsed": true
   },
   "outputs": [],
   "source": [
    "from keras import optimizers\n",
    "model.compile(loss = 'binary_crossentropy', optimizer = optimizers.RMSprop(lr = 1e-4), metrics = ['acc'])"
   ]
  },
  {
   "cell_type": "code",
   "execution_count": 11,
   "metadata": {},
   "outputs": [
    {
     "name": "stdout",
     "output_type": "stream",
     "text": [
      "Found 2000 images belonging to 2 classes.\n",
      "Found 1000 images belonging to 2 classes.\n"
     ]
    }
   ],
   "source": [
    "from keras.preprocessing.image import ImageDataGenerator\n",
    "x_gen = ImageDataGenerator(rescale = 1./255,\n",
    "                           rotation_range=40,\n",
    "                           width_shift_range = 0.2,\n",
    "                           height_shift_range = 0.2,\n",
    "                           shear_range = 0.2,\n",
    "                           zoom_range = 0.2,\n",
    "                           horizontal_flip = True,\n",
    "                           fill_mode = 'nearest')\n",
    "xtest_gen = ImageDataGenerator(rescale = 1./255)\n",
    "x_gen = x_gen.flow_from_directory(train_dir, target_size = input_shape[0:2], batch_size = 20, class_mode = 'binary')\n",
    "valid_gen = xtest_gen.flow_from_directory(validation_dir,target_size = input_shape[0:2], batch_size = 20, class_mode = 'binary')"
   ]
  },
  {
   "cell_type": "code",
   "execution_count": 12,
   "metadata": {},
   "outputs": [
    {
     "name": "stdout",
     "output_type": "stream",
     "text": [
      "Epoch 1/15\n",
      "100/100 [==============================] - 14s 135ms/step - loss: 0.6952 - acc: 0.4905 - val_loss: 0.6900 - val_acc: 0.5000\n",
      "Epoch 2/15\n",
      "100/100 [==============================] - 12s 119ms/step - loss: 0.6915 - acc: 0.5185 - val_loss: 0.6871 - val_acc: 0.5030\n",
      "Epoch 3/15\n",
      "100/100 [==============================] - 12s 124ms/step - loss: 0.6884 - acc: 0.5305 - val_loss: 0.6808 - val_acc: 0.5690\n",
      "Epoch 4/15\n",
      "100/100 [==============================] - 13s 127ms/step - loss: 0.6846 - acc: 0.5450 - val_loss: 0.6854 - val_acc: 0.5140\n",
      "Epoch 5/15\n",
      "100/100 [==============================] - 13s 127ms/step - loss: 0.6809 - acc: 0.5585 - val_loss: 0.6695 - val_acc: 0.5790\n",
      "Epoch 6/15\n",
      "100/100 [==============================] - 13s 128ms/step - loss: 0.6739 - acc: 0.5955 - val_loss: 0.6949 - val_acc: 0.5330\n",
      "Epoch 7/15\n",
      "100/100 [==============================] - 13s 130ms/step - loss: 0.6706 - acc: 0.5900 - val_loss: 0.6641 - val_acc: 0.5940\n",
      "Epoch 8/15\n",
      "100/100 [==============================] - 13s 130ms/step - loss: 0.6683 - acc: 0.5935 - val_loss: 0.6768 - val_acc: 0.5620\n",
      "Epoch 9/15\n",
      "100/100 [==============================] - 13s 130ms/step - loss: 0.6653 - acc: 0.5930 - val_loss: 0.6509 - val_acc: 0.6140\n",
      "Epoch 10/15\n",
      "100/100 [==============================] - 13s 131ms/step - loss: 0.6654 - acc: 0.5945 - val_loss: 0.6697 - val_acc: 0.5910\n",
      "Epoch 11/15\n",
      "100/100 [==============================] - 13s 131ms/step - loss: 0.6616 - acc: 0.6040 - val_loss: 0.7754 - val_acc: 0.5160\n",
      "Epoch 12/15\n",
      "100/100 [==============================] - 13s 132ms/step - loss: 0.6535 - acc: 0.6115 - val_loss: 0.6893 - val_acc: 0.5720\n",
      "Epoch 13/15\n",
      "100/100 [==============================] - 13s 131ms/step - loss: 0.6517 - acc: 0.6120 - val_loss: 0.7578 - val_acc: 0.5310\n",
      "Epoch 14/15\n",
      "100/100 [==============================] - 13s 130ms/step - loss: 0.6442 - acc: 0.6325 - val_loss: 0.6818 - val_acc: 0.6060\n",
      "Epoch 15/15\n",
      "100/100 [==============================] - 13s 131ms/step - loss: 0.6438 - acc: 0.6310 - val_loss: 0.7232 - val_acc: 0.5590\n"
     ]
    }
   ],
   "source": [
    "history = model.fit_generator(x_gen, steps_per_epoch = 100, epochs = 15, validation_data = valid_gen, validation_steps = 50)\n",
    "model.save('cats_and_dogs_small_1.h5')"
   ]
  },
  {
   "cell_type": "markdown",
   "metadata": {
    "collapsed": true
   },
   "source": [
    "### Pretrained model"
   ]
  },
  {
   "cell_type": "code",
   "execution_count": 13,
   "metadata": {},
   "outputs": [
    {
     "name": "stdout",
     "output_type": "stream",
     "text": [
      "Downloading data from https://github.com/fchollet/deep-learning-models/releases/download/v0.1/vgg16_weights_tf_dim_ordering_tf_kernels_notop.h5\n",
      "58892288/58889256 [==============================] - 25s 0us/step\n",
      "_________________________________________________________________\n",
      "Layer (type)                 Output Shape              Param #   \n",
      "=================================================================\n",
      "input_1 (InputLayer)         (None, 50, 50, 3)         0         \n",
      "_________________________________________________________________\n",
      "block1_conv1 (Conv2D)        (None, 50, 50, 64)        1792      \n",
      "_________________________________________________________________\n",
      "block1_conv2 (Conv2D)        (None, 50, 50, 64)        36928     \n",
      "_________________________________________________________________\n",
      "block1_pool (MaxPooling2D)   (None, 25, 25, 64)        0         \n",
      "_________________________________________________________________\n",
      "block2_conv1 (Conv2D)        (None, 25, 25, 128)       73856     \n",
      "_________________________________________________________________\n",
      "block2_conv2 (Conv2D)        (None, 25, 25, 128)       147584    \n",
      "_________________________________________________________________\n",
      "block2_pool (MaxPooling2D)   (None, 12, 12, 128)       0         \n",
      "_________________________________________________________________\n",
      "block3_conv1 (Conv2D)        (None, 12, 12, 256)       295168    \n",
      "_________________________________________________________________\n",
      "block3_conv2 (Conv2D)        (None, 12, 12, 256)       590080    \n",
      "_________________________________________________________________\n",
      "block3_conv3 (Conv2D)        (None, 12, 12, 256)       590080    \n",
      "_________________________________________________________________\n",
      "block3_pool (MaxPooling2D)   (None, 6, 6, 256)         0         \n",
      "_________________________________________________________________\n",
      "block4_conv1 (Conv2D)        (None, 6, 6, 512)         1180160   \n",
      "_________________________________________________________________\n",
      "block4_conv2 (Conv2D)        (None, 6, 6, 512)         2359808   \n",
      "_________________________________________________________________\n",
      "block4_conv3 (Conv2D)        (None, 6, 6, 512)         2359808   \n",
      "_________________________________________________________________\n",
      "block4_pool (MaxPooling2D)   (None, 3, 3, 512)         0         \n",
      "_________________________________________________________________\n",
      "block5_conv1 (Conv2D)        (None, 3, 3, 512)         2359808   \n",
      "_________________________________________________________________\n",
      "block5_conv2 (Conv2D)        (None, 3, 3, 512)         2359808   \n",
      "_________________________________________________________________\n",
      "block5_conv3 (Conv2D)        (None, 3, 3, 512)         2359808   \n",
      "_________________________________________________________________\n",
      "block5_pool (MaxPooling2D)   (None, 1, 1, 512)         0         \n",
      "=================================================================\n",
      "Total params: 14,714,688\n",
      "Trainable params: 14,714,688\n",
      "Non-trainable params: 0\n",
      "_________________________________________________________________\n"
     ]
    }
   ],
   "source": [
    "from keras.applications import VGG16\n",
    "conv_base = VGG16(weights = 'imagenet',include_top = False, input_shape = input_shape)\n",
    "conv_base.summary()"
   ]
  },
  {
   "cell_type": "code",
   "execution_count": 16,
   "metadata": {},
   "outputs": [
    {
     "name": "stdout",
     "output_type": "stream",
     "text": [
      "Found 1000 images belonging to 2 classes.\n",
      "Found 1000 images belonging to 2 classes.\n"
     ]
    }
   ],
   "source": [
    "# Feature extraction\n",
    "import os\n",
    "import numpy as np\n",
    "from keras.preprocessing.image import ImageDataGenerator\n",
    "datagen = ImageDataGenerator(rescale = 1./255)\n",
    "batch_size = 20\n",
    "\n",
    "def extract_features(directory, sample_count):\n",
    "    features = np.zeros(shape = (sample_count, 4,4,512))\n",
    "    labels = np.zeros(shape = (sample_count))\n",
    "    generator = datagen.flow_from_directory(directory,\n",
    "                                           target_size = input_shape[0:2],\n",
    "                                           batch_size = batch_size,\n",
    "                                           class_mode = 'binary')\n",
    "    i = 0\n",
    "    for inputs_batch, labels_batch in generator:\n",
    "        features_batch = conv_base.predict(inputs_batch)\n",
    "        features[i*(batch_size):(i+1)*batch_size] = features_batch\n",
    "        labels[i*batch_size : (i+1)*batch_size] = labels_batch\n",
    "        i+=1\n",
    "        if i*batch_size >= sample_count:\n",
    "            break\n",
    "    return features, labels\n",
    "\n",
    "train_features, train_labels = extract_features(train_dir, 2000)\n",
    "validation_features, validation_labels = extract_features(validation_dir, 1000)\n",
    "test_features, test_labels = extract_features(test_dir, 1000)"
   ]
  },
  {
   "cell_type": "code",
   "execution_count": 17,
   "metadata": {
    "collapsed": true
   },
   "outputs": [],
   "source": [
    "train_features = np.reshape(train_features, (2000,4*4*512))\n",
    "validation_features = np.reshape(validation_features, (1000, 4*4*512))\n",
    "test_features = np.reshape(test_features, (1000,4*4*512))"
   ]
  },
  {
   "cell_type": "code",
   "execution_count": 20,
   "metadata": {},
   "outputs": [
    {
     "name": "stdout",
     "output_type": "stream",
     "text": [
      "Train on 2000 samples, validate on 1000 samples\n",
      "Epoch 1/10\n",
      "2000/2000 [==============================] - 4s 2ms/step - loss: 0.6909 - acc: 0.5960 - val_loss: 0.5937 - val_acc: 0.6890\n",
      "Epoch 2/10\n",
      "2000/2000 [==============================] - 4s 2ms/step - loss: 0.5912 - acc: 0.6835 - val_loss: 0.5576 - val_acc: 0.7110\n",
      "Epoch 3/10\n",
      "2000/2000 [==============================] - 4s 2ms/step - loss: 0.5549 - acc: 0.7140 - val_loss: 0.5511 - val_acc: 0.7020\n",
      "Epoch 4/10\n",
      "2000/2000 [==============================] - 4s 2ms/step - loss: 0.5362 - acc: 0.7290 - val_loss: 0.5268 - val_acc: 0.7340\n",
      "Epoch 5/10\n",
      "2000/2000 [==============================] - 4s 2ms/step - loss: 0.5152 - acc: 0.7460 - val_loss: 0.5192 - val_acc: 0.7410\n",
      "Epoch 6/10\n",
      "2000/2000 [==============================] - 4s 2ms/step - loss: 0.5072 - acc: 0.7485 - val_loss: 0.5161 - val_acc: 0.7450\n",
      "Epoch 7/10\n",
      "2000/2000 [==============================] - 4s 2ms/step - loss: 0.4860 - acc: 0.7660 - val_loss: 0.5113 - val_acc: 0.7430\n",
      "Epoch 8/10\n",
      "2000/2000 [==============================] - 4s 2ms/step - loss: 0.4787 - acc: 0.7760 - val_loss: 0.5073 - val_acc: 0.7490\n",
      "Epoch 9/10\n",
      "2000/2000 [==============================] - 4s 2ms/step - loss: 0.4737 - acc: 0.7735 - val_loss: 0.5055 - val_acc: 0.7510\n",
      "Epoch 10/10\n",
      "2000/2000 [==============================] - 4s 2ms/step - loss: 0.4638 - acc: 0.7855 - val_loss: 0.5056 - val_acc: 0.7550\n"
     ]
    }
   ],
   "source": [
    "from keras import models\n",
    "from keras import layers\n",
    "from keras import optimizers\n",
    "model = models.Sequential()\n",
    "model.add(layers.Dense(256, activation = 'relu', input_dim = 4*4*512))\n",
    "model.add(layers.Dropout(0.5))\n",
    "model.add(layers.Dense(1, activation = 'sigmoid'))\n",
    "model.compile(optimizer = optimizers.RMSprop(lr = 2e-5), loss = 'binary_crossentropy', metrics = ['acc'])\n",
    "history = model.fit(train_features, train_labels, epochs = 10, batch_size = 20, validation_data = (validation_features, validation_labels))\n",
    "model.save('cats_dogs_pretrained.h5')"
   ]
  },
  {
   "cell_type": "markdown",
   "metadata": {},
   "source": [
    "### Augmentation on pretrained models\n",
    "#### Only run on GPU"
   ]
  },
  {
   "cell_type": "code",
   "execution_count": 22,
   "metadata": {},
   "outputs": [
    {
     "name": "stdout",
     "output_type": "stream",
     "text": [
      "_________________________________________________________________\n",
      "Layer (type)                 Output Shape              Param #   \n",
      "=================================================================\n",
      "vgg16 (Model)                (None, 1, 1, 512)         14714688  \n",
      "_________________________________________________________________\n",
      "flatten_4 (Flatten)          (None, 512)               0         \n",
      "_________________________________________________________________\n",
      "dense_11 (Dense)             (None, 256)               131328    \n",
      "_________________________________________________________________\n",
      "dense_12 (Dense)             (None, 1)                 257       \n",
      "=================================================================\n",
      "Total params: 14,846,273\n",
      "Trainable params: 131,585\n",
      "Non-trainable params: 14,714,688\n",
      "_________________________________________________________________\n"
     ]
    }
   ],
   "source": [
    "from keras import models\n",
    "from keras import layers\n",
    "model = models.Sequential()\n",
    "conv_base.trainable = False\n",
    "model.add(conv_base)\n",
    "model.add(layers.Flatten())\n",
    "model.add(layers.Dense(256, activation = 'relu'))\n",
    "model.add(layers.Dense(1, activation = 'sigmoid'))\n",
    "model.summary()"
   ]
  },
  {
   "cell_type": "code",
   "execution_count": 25,
   "metadata": {},
   "outputs": [
    {
     "name": "stdout",
     "output_type": "stream",
     "text": [
      "Epoch 1/1\n",
      "100/100 [==============================] - 60s 598ms/step - loss: 0.6987 - acc: 0.5040 - val_loss: 0.7011 - val_acc: 0.5240\n"
     ]
    }
   ],
   "source": [
    "model.compile(loss = 'binary_crossentropy', optimizer = optimizers.RMSprop(lr = 2e-5), metrics = ['acc'])\n",
    "num_epochs = 1 # book uses 100\n",
    "\n",
    "history = model.fit_generator(x_gen, steps_per_epoch = 100, epochs=num_epochs, \n",
    "                              validation_data = valid_gen, validation_steps = 50)\n",
    "model.save('cats_dogs_pretrained_augmented.h5')"
   ]
  },
  {
   "cell_type": "code",
   "execution_count": 29,
   "metadata": {},
   "outputs": [
    {
     "name": "stdout",
     "output_type": "stream",
     "text": [
      "Epoch 1/1\n",
      "100/100 [==============================] - 96s 962ms/step - loss: 0.6389 - acc: 0.6295 - val_loss: 0.5914 - val_acc: 0.6830\n"
     ]
    }
   ],
   "source": [
    "# fine tune\n",
    "num_epochs = 1\n",
    "conv_base.trainable = True\n",
    "set_trainable = False\n",
    "for layer in conv_base.layers:\n",
    "    if layer.name == 'block5_conv1':\n",
    "        set_trainable = True\n",
    "    if set_trainable:\n",
    "        layer.trainable = True\n",
    "    else:\n",
    "        layer.trainable = False\n",
    "model.compile(loss = 'binary_crossentropy', optimizer = optimizers.RMSprop(lr = 1e-5), metrics = ['acc'])\n",
    "hist = model.fit_generator(x_gen, steps_per_epoch = 100, epochs = num_epochs, validation_data = valid_gen, validation_steps = 50)\n",
    "model.save('cats_dogs_finetuned.h5')"
   ]
  },
  {
   "cell_type": "code",
   "execution_count": null,
   "metadata": {
    "collapsed": true
   },
   "outputs": [],
   "source": []
  }
 ],
 "metadata": {
  "kernelspec": {
   "display_name": "Python 3",
   "language": "python",
   "name": "python3"
  }
 },
 "nbformat": 4,
 "nbformat_minor": 2
}
