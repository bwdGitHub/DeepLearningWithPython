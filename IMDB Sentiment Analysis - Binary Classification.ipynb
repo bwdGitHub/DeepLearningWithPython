{
 "cells": [
  {
   "cell_type": "code",
   "execution_count": 1,
   "metadata": {},
   "outputs": [
    {
     "name": "stderr",
     "output_type": "stream",
     "text": [
      "Using TensorFlow backend.\n"
     ]
    }
   ],
   "source": [
    "from keras.datasets import imdb\n",
    "(train_data, train_labels), (test_data, test_labels) = imdb.load_data(num_words = 10000)"
   ]
  },
  {
   "cell_type": "code",
   "execution_count": 5,
   "metadata": {},
   "outputs": [],
   "source": [
    "import numpy as np\n",
    "def vectorize_sequences(seq,dim=10000):\n",
    "    res = np.zeros((len(seq),dim))\n",
    "    for i, s in enumerate(seq):\n",
    "        res[i,s] = 1.\n",
    "    return res\n",
    "x = vectorize_sequences(train_data)\n",
    "x_test = vectorize_sequences(test_data)\n",
    "y = np.asarray(train_labels).astype('float32')\n",
    "y_test = np.asarray(test_labels).astype('float32')"
   ]
  },
  {
   "cell_type": "code",
   "execution_count": 27,
   "metadata": {},
   "outputs": [],
   "source": [
    "from keras import models\n",
    "from keras import layers\n",
    "from keras import activations\n",
    "model = models.Sequential()\n",
    "model.add(layers.Dense(16, activation='relu',input_shape = (10000,)))\n",
    "model.add(layers.Dense(8, activation = 'relu'))\n",
    "model.add(layers.Dense(1, activation = 'sigmoid'))"
   ]
  },
  {
   "cell_type": "code",
   "execution_count": 34,
   "metadata": {},
   "outputs": [],
   "source": [
    "from keras import optimizers\n",
    "model.compile(optimizer=optimizers.RMSprop(lr=0.0005),\n",
    "             loss = 'binary_crossentropy',\n",
    "             metrics = ['accuracy'])"
   ]
  },
  {
   "cell_type": "code",
   "execution_count": 35,
   "metadata": {
    "collapsed": true
   },
   "outputs": [],
   "source": [
    "xv = x[:10000]\n",
    "xt = x[10000:]\n",
    "yv = y[:10000]\n",
    "yt = y[10000:]"
   ]
  },
  {
   "cell_type": "code",
   "execution_count": 36,
   "metadata": {},
   "outputs": [
    {
     "name": "stdout",
     "output_type": "stream",
     "text": [
      "Train on 15000 samples, validate on 10000 samples\n",
      "Epoch 1/5\n",
      "15000/15000 [==============================] - 2s 153us/step - loss: 0.0810 - acc: 0.9875 - val_loss: 0.3187 - val_acc: 0.8812\n",
      "Epoch 2/5\n",
      "15000/15000 [==============================] - 2s 138us/step - loss: 0.0709 - acc: 0.9888 - val_loss: 0.3257 - val_acc: 0.8795\n",
      "Epoch 3/5\n",
      "15000/15000 [==============================] - 2s 139us/step - loss: 0.0644 - acc: 0.9902 - val_loss: 0.3393 - val_acc: 0.8794\n",
      "Epoch 4/5\n",
      "15000/15000 [==============================] - 2s 138us/step - loss: 0.0588 - acc: 0.9904 - val_loss: 0.3476 - val_acc: 0.8784\n",
      "Epoch 5/5\n",
      "15000/15000 [==============================] - 2s 140us/step - loss: 0.0533 - acc: 0.9911 - val_loss: 0.3590 - val_acc: 0.8764\n"
     ]
    }
   ],
   "source": [
    "hist = model.fit(xt,yt,epochs = 5,batch_size=512,validation_data = (xv,yv))"
   ]
  },
  {
   "cell_type": "code",
   "execution_count": 37,
   "metadata": {},
   "outputs": [
    {
     "data": {
      "image/png": "[encoded data removed]",
      "text/plain": [
       "<matplotlib.figure.Figure at 0x1178c7f0>"
      ]
     },
     "metadata": {},
     "output_type": "display_data"
    }
   ],
   "source": [
    "import matplotlib.pyplot as plt\n",
    "hist_dict = hist.history\n",
    "loss = hist_dict['loss']\n",
    "vloss = hist_dict['val_loss']\n",
    "epochs = range(1,len(hist_dict['acc'])+1)\n",
    "plt.plot(epochs,loss,'bo',label='Train loss')\n",
    "plt.plot(epochs, vloss, 'b',label = 'Validation loss')\n",
    "plt.show()"
   ]
  },
  {
   "cell_type": "code",
   "execution_count": null,
   "metadata": {
    "collapsed": true
   },
   "outputs": [],
   "source": []
  }
 ],
 "metadata": {
  "kernelspec": {
   "display_name": "Python 3",
   "language": "python",
   "name": "python3"
  },
  "language_info": {
   "codemirror_mode": {
    "name": "ipython",
    "version": 3
   },
   "file_extension": ".py",
   "mimetype": "text/x-python",
   "name": "python",
   "nbconvert_exporter": "python",
   "pygments_lexer": "ipython3",
   "version": "3.5.3"
  }
 },
 "nbformat": 4,
 "nbformat_minor": 2
}
