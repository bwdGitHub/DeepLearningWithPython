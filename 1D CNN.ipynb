{
 "cells": [
  {
   "cell_type": "code",
   "execution_count": 6,
   "metadata": {},
   "outputs": [],
   "source": [
    "# Note - dramatically reduced the parameters here.\n",
    "\n",
    "from keras.datasets import imdb\n",
    "from keras.preprocessing import sequence\n",
    "max_features = 5000\n",
    "max_len = 200\n",
    "(x,y), (xtest,ytest) = imdb.load_data(num_words = max_features)\n",
    "x = sequence.pad_sequences(x, maxlen = max_len)\n",
    "xtest = sequence.pad_sequences(xtest, maxlen = max_len)"
   ]
  },
  {
   "cell_type": "code",
   "execution_count": 10,
   "metadata": {},
   "outputs": [
    {
     "name": "stdout",
     "output_type": "stream",
     "text": [
      "_________________________________________________________________\n",
      "Layer (type)                 Output Shape              Param #   \n",
      "=================================================================\n",
      "embedding_6 (Embedding)      (None, 200, 64)           320000    \n",
      "_________________________________________________________________\n",
      "conv1d_11 (Conv1D)           (None, 196, 8)            2568      \n",
      "_________________________________________________________________\n",
      "max_pooling1d_6 (MaxPooling1 (None, 65, 8)             0         \n",
      "_________________________________________________________________\n",
      "conv1d_12 (Conv1D)           (None, 63, 8)             200       \n",
      "_________________________________________________________________\n",
      "global_max_pooling1d_6 (Glob (None, 8)                 0         \n",
      "_________________________________________________________________\n",
      "dense_6 (Dense)              (None, 1)                 9         \n",
      "=================================================================\n",
      "Total params: 322,777\n",
      "Trainable params: 322,777\n",
      "Non-trainable params: 0\n",
      "_________________________________________________________________\n",
      "Train on 800 samples, validate on 200 samples\n",
      "Epoch 1/5\n",
      "800/800 [==============================] - 19s 24ms/step - loss: 8.0792 - acc: 0.4987 - val_loss: 7.4949 - val_acc: 0.5350\n",
      "Epoch 2/5\n",
      "800/800 [==============================] - 19s 23ms/step - loss: 8.0792 - acc: 0.4987 - val_loss: 7.4949 - val_acc: 0.5350\n",
      "Epoch 3/5\n",
      "800/800 [==============================] - 19s 24ms/step - loss: 8.0792 - acc: 0.4987 - val_loss: 7.4949 - val_acc: 0.5350\n",
      "Epoch 4/5\n",
      "800/800 [==============================] - 21s 26ms/step - loss: 8.0792 - acc: 0.4987 - val_loss: 7.4949 - val_acc: 0.5350\n",
      "Epoch 5/5\n",
      "800/800 [==============================] - 20s 25ms/step - loss: 8.0792 - acc: 0.4987 - val_loss: 7.4949 - val_acc: 0.5350\n"
     ]
    }
   ],
   "source": [
    "from keras.models import Sequential\n",
    "from keras import layers\n",
    "from keras.optimizers import RMSprop\n",
    "\n",
    "model = Sequential()\n",
    "model.add(layers.Embedding(max_features, 64, input_length = max_len))\n",
    "model.add(layers.Conv1D(8, 5, activation = 'relu'))\n",
    "model.add(layers.MaxPooling1D(3))\n",
    "model.add(layers.Conv1D(8,3, activation = 'relu'))\n",
    "model.add(layers.GlobalMaxPooling1D())\n",
    "model.add(layers.Dense(1))\n",
    "model.summary()\n",
    "model.compile(optimizer = RMSprop(lr = 1e-4), loss = 'binary_crossentropy', metrics = ['acc'])\n",
    "hist = model.fit(x[:1000],y[:1000], epochs = 5, batch_size = 64, validation_split = 0.2)"
   ]
  },
  {
   "cell_type": "code",
   "execution_count": 12,
   "metadata": {},
   "outputs": [
    {
     "data": {
      "image/png": "[encoded data removed]",
      "text/plain": [
       "<Figure size 432x288 with 1 Axes>"
      ]
     },
     "metadata": {},
     "output_type": "display_data"
    }
   ],
   "source": [
    "# Can also use CNN layers before an RNN layer, useful for preprocessing large sequences.\n",
    "import matplotlib.pyplot as plt\n",
    "plt.plot(hist.history['val_acc'])\n",
    "plt.show()\n",
    "model.save('imdb_1d_conv.h5')"
   ]
  },
  {
   "cell_type": "code",
   "execution_count": null,
   "metadata": {},
   "outputs": [],
   "source": []
  }
 ],
 "metadata": {
  "kernelspec": {
   "display_name": "Python 3",
   "language": "python",
   "name": "python3"
  },
  "language_info": {
   "codemirror_mode": {
    "name": "ipython",
    "version": 3
   },
   "file_extension": ".py",
   "mimetype": "text/x-python",
   "name": "python",
   "nbconvert_exporter": "python",
   "pygments_lexer": "ipython3",
   "version": "3.6.6"
  }
 },
 "nbformat": 4,
 "nbformat_minor": 2
}
