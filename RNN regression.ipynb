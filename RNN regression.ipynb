{
 "cells": [
  {
   "cell_type": "code",
   "execution_count": 1,
   "metadata": {},
   "outputs": [
    {
     "name": "stdout",
     "output_type": "stream",
     "text": [
      "['\"Date Time\"', '\"p (mbar)\"', '\"T (degC)\"', '\"Tpot (K)\"', '\"Tdew (degC)\"', '\"rh (%)\"', '\"VPmax (mbar)\"', '\"VPact (mbar)\"', '\"VPdef (mbar)\"', '\"sh (g/kg)\"', '\"H2OC (mmol/mol)\"', '\"rho (g/m**3)\"', '\"wv (m/s)\"', '\"max. wv (m/s)\"', '\"wd (deg)\"']\n",
      "420551\n"
     ]
    }
   ],
   "source": [
    "import os\n",
    "data_dir = os.path.join(os.getcwd(), 'jena')\n",
    "fname = os.path.join(data_dir, 'jena_climate_2009_2016.csv')\n",
    "f = open(fname)\n",
    "data = f.read()\n",
    "f.close()\n",
    "lines = data.split('\\n')\n",
    "header = lines[0].split(',')\n",
    "lines = lines[1:]\n",
    "print(header)\n",
    "print(len(lines))"
   ]
  },
  {
   "cell_type": "code",
   "execution_count": 2,
   "metadata": {},
   "outputs": [
    {
     "data": {
      "text/plain": [
       "<Figure size 640x480 with 1 Axes>"
      ]
     },
     "metadata": {},
     "output_type": "display_data"
    }
   ],
   "source": [
    "import numpy as np\n",
    "float_data = np.zeros((len(lines), len(header)-1))\n",
    "for i, line in enumerate(lines):\n",
    "    values = [float(x) for x in line.split(',')[1:]]\n",
    "    float_data[i,:] = values\n",
    "import matplotlib.pyplot as plt\n",
    "temp = float_data[:,1]\n",
    "plt.plot(range(len(temp)),temp)\n",
    "plt.show()"
   ]
  },
  {
   "cell_type": "code",
   "execution_count": 3,
   "metadata": {},
   "outputs": [],
   "source": [
    "mean = float_data[:200000].mean(axis =0)\n",
    "float_data -= mean\n",
    "std = float_data[:200000].std(axis = 0)\n",
    "float_data/=std"
   ]
  },
  {
   "cell_type": "code",
   "execution_count": 4,
   "metadata": {},
   "outputs": [],
   "source": [
    "def generator(data, lookback, delay, min_index,max_index, shuffle = False, batch_size = 128, step = 6):\n",
    "    if max_index is None:\n",
    "        max_index = len(data) - delay -1\n",
    "    i = min_index + lookback\n",
    "    while 1:\n",
    "        if shuffle:\n",
    "            rows = np.random.randint(\n",
    "            min_index + lookback, max_index, size = batch_size)\n",
    "        else:\n",
    "            if i + batch_size >= max_index:\n",
    "                i = min_index + lookback\n",
    "            rows = np.arange(i, min(i+batch_size, max_index))\n",
    "            i += len(rows)\n",
    "        samples = np.zeros((len(rows), lookback // step, data.shape[-1]))\n",
    "        targets = np.zeros((len(rows),))\n",
    "        for j, row in enumerate(rows):\n",
    "            indices = range(rows[j] - lookback, rows[j], step)\n",
    "            samples[j] = data[indices]\n",
    "            targets[j] = data[rows[j] + delay][1]\n",
    "        yield samples, targets\n",
    "lookback = 1440\n",
    "step = 6\n",
    "delay = 144\n",
    "batch_size = 128\n",
    "train_gen = generator(float_data, lookback = lookback, delay = delay, \n",
    "                      min_index = 0, max_index = 200000, shuffle = True, step = step, batch_size = batch_size)\n",
    "val_gen = generator(float_data, lookback = lookback, delay = delay, \n",
    "                      min_index = 200001, max_index = 300000, step = step, batch_size = batch_size)\n",
    "test_gen = generator(float_data, lookback = lookback, delay = delay, \n",
    "                      min_index = 300001, max_index = None, step = step, batch_size = batch_size)"
   ]
  },
  {
   "cell_type": "code",
   "execution_count": 6,
   "metadata": {},
   "outputs": [
    {
     "name": "stdout",
     "output_type": "stream",
     "text": [
      "0.28970482564414013\n"
     ]
    }
   ],
   "source": [
    "val_steps = 10000 # shorter than full, which takes forever\n",
    "test_steps = (len(float_data)-300001 -lookback)\n",
    "def naive():\n",
    "    batch_maes = []\n",
    "    for step in range(val_steps):\n",
    "        samples, targets = next(val_gen)\n",
    "        preds = samples[:,-1,1]\n",
    "        mae = np.mean(np.abs(preds-targets))\n",
    "        batch_maes.append(mae)\n",
    "    print(np.mean(batch_maes))\n",
    "naive()"
   ]
  },
  {
   "cell_type": "code",
   "execution_count": 9,
   "metadata": {},
   "outputs": [
    {
     "name": "stdout",
     "output_type": "stream",
     "text": [
      "Epoch 1/5\n",
      "500/500 [==============================] - 7s 13ms/step - loss: 1.9846 - val_loss: 1.5304\n",
      "Epoch 2/5\n",
      "500/500 [==============================] - 7s 13ms/step - loss: 0.7343 - val_loss: 0.3459\n",
      "Epoch 3/5\n",
      "500/500 [==============================] - 7s 13ms/step - loss: 0.3540 - val_loss: 0.2890\n",
      "Epoch 4/5\n",
      "500/500 [==============================] - 7s 13ms/step - loss: 0.2826 - val_loss: 0.3050\n",
      "Epoch 5/5\n",
      "500/500 [==============================] - 7s 13ms/step - loss: 0.2637 - val_loss: 0.3166\n"
     ]
    },
    {
     "data": {
      "image/png": "[encoded data removed]",
      "text/plain": [
       "<Figure size 432x288 with 1 Axes>"
      ]
     },
     "metadata": {},
     "output_type": "display_data"
    }
   ],
   "source": [
    "val_steps = 100\n",
    "from keras.models import Sequential\n",
    "from keras import layers\n",
    "from keras.optimizers import RMSprop\n",
    "model = Sequential()\n",
    "model.add(layers.Flatten(input_shape = (lookback//step, float_data.shape[-1])))\n",
    "model.add(layers.Dense(32, activation='relu'))\n",
    "model.add(layers.Dense(1))\n",
    "model.compile(optimizer = RMSprop(), loss = 'mae')\n",
    "hist = model.fit_generator(train_gen, steps_per_epoch = 500, epochs = 5, validation_data = val_gen, validation_steps = val_steps)"
   ]
  },
  {
   "cell_type": "code",
   "execution_count": 11,
   "metadata": {},
   "outputs": [
    {
     "data": {
      "image/png": "[encoded data removed]",
      "text/plain": [
       "<Figure size 432x288 with 1 Axes>"
      ]
     },
     "metadata": {},
     "output_type": "display_data"
    }
   ],
   "source": [
    "import matplotlib.pyplot as plt\n",
    "plt.plot(hist.history['loss'],'bo')\n",
    "plt.plot(hist.history['val_loss'],'b')\n",
    "plt.show()\n",
    "model.save('jena_dense.h5')"
   ]
  },
  {
   "cell_type": "code",
   "execution_count": 14,
   "metadata": {},
   "outputs": [
    {
     "name": "stdout",
     "output_type": "stream",
     "text": [
      "Epoch 1/10\n",
      "500/500 [==============================] - 66s 132ms/step - loss: 0.3046 - val_loss: 0.2670\n",
      "Epoch 2/10\n",
      "500/500 [==============================] - 70s 140ms/step - loss: 0.2855 - val_loss: 0.2708\n",
      "Epoch 3/10\n",
      "500/500 [==============================] - 70s 141ms/step - loss: 0.2781 - val_loss: 0.2617\n",
      "Epoch 4/10\n",
      "500/500 [==============================] - 71s 141ms/step - loss: 0.2738 - val_loss: 0.2534\n",
      "Epoch 5/10\n",
      "500/500 [==============================] - 71s 142ms/step - loss: 0.2700 - val_loss: 0.2719\n",
      "Epoch 6/10\n",
      "500/500 [==============================] - 71s 142ms/step - loss: 0.2657 - val_loss: 0.2629\n",
      "Epoch 7/10\n",
      "500/500 [==============================] - 71s 142ms/step - loss: 0.2581 - val_loss: 0.2643\n",
      "Epoch 8/10\n",
      "500/500 [==============================] - 71s 142ms/step - loss: 0.2533 - val_loss: 0.2751\n",
      "Epoch 9/10\n",
      "500/500 [==============================] - 71s 143ms/step - loss: 0.2483 - val_loss: 0.2758\n",
      "Epoch 10/10\n",
      "500/500 [==============================] - 71s 142ms/step - loss: 0.2434 - val_loss: 0.2717\n"
     ]
    }
   ],
   "source": [
    "val_steps = 500\n",
    "model = Sequential()\n",
    "model.add(layers.GRU(32,input_shape = (None, float_data.shape[-1])))\n",
    "model.add(layers.Dense(1))\n",
    "model.compile(optimizer= RMSprop(), loss = 'mae')\n",
    "hist = model.fit_generator(train_gen, steps_per_epoch = 500, epochs = 10, validation_data = val_gen, validation_steps = val_steps)"
   ]
  },
  {
   "cell_type": "code",
   "execution_count": 15,
   "metadata": {},
   "outputs": [
    {
     "data": {
      "image/png": "[encoded data removed]",
      "text/plain": [
       "<Figure size 432x288 with 1 Axes>"
      ]
     },
     "metadata": {},
     "output_type": "display_data"
    }
   ],
   "source": [
    "plt.plot(hist.history['loss'],'bo')\n",
    "plt.plot(hist.history['val_loss'],'b')\n",
    "plt.show()\n",
    "model.save('jena_gru.h5')"
   ]
  },
  {
   "cell_type": "code",
   "execution_count": 16,
   "metadata": {},
   "outputs": [
    {
     "name": "stdout",
     "output_type": "stream",
     "text": [
      "Epoch 1/10\n",
      "250/250 [==============================] - 25s 101ms/step - loss: 0.4254 - val_loss: 0.2904\n",
      "Epoch 2/10\n",
      "250/250 [==============================] - 26s 104ms/step - loss: 0.3309 - val_loss: 0.2924\n",
      "Epoch 3/10\n",
      "250/250 [==============================] - 27s 108ms/step - loss: 0.3244 - val_loss: 0.2554\n",
      "Epoch 4/10\n",
      "250/250 [==============================] - 28s 110ms/step - loss: 0.3194 - val_loss: 0.2811\n",
      "Epoch 5/10\n",
      "250/250 [==============================] - 28s 111ms/step - loss: 0.3147 - val_loss: 0.2946\n",
      "Epoch 6/10\n",
      "250/250 [==============================] - 28s 112ms/step - loss: 0.3131 - val_loss: 0.2493\n",
      "Epoch 7/10\n",
      "250/250 [==============================] - 28s 112ms/step - loss: 0.3102 - val_loss: 0.2832\n",
      "Epoch 8/10\n",
      "250/250 [==============================] - 28s 113ms/step - loss: 0.3107 - val_loss: 0.2840\n",
      "Epoch 9/10\n",
      "250/250 [==============================] - 28s 113ms/step - loss: 0.3080 - val_loss: 0.2512\n",
      "Epoch 10/10\n",
      "250/250 [==============================] - 28s 113ms/step - loss: 0.3061 - val_loss: 0.2805\n"
     ]
    },
    {
     "data": {
      "image/png": "[encoded data removed]",
      "text/plain": [
       "<Figure size 432x288 with 1 Axes>"
      ]
     },
     "metadata": {},
     "output_type": "display_data"
    }
   ],
   "source": [
    "val_steps = 250\n",
    "model = Sequential()\n",
    "model.add(layers.GRU(16,input_shape = (None, float_data.shape[-1]), dropout = 0.2, recurrent_dropout = 0.2))\n",
    "model.add(layers.Dense(1))\n",
    "model.compile(optimizer= RMSprop(), loss = 'mae')\n",
    "hist = model.fit_generator(train_gen, steps_per_epoch = 250, epochs = 10, validation_data = val_gen, validation_steps = val_steps)\n",
    "plt.plot(hist.history['loss'],'bo')\n",
    "plt.plot(hist.history['val_loss'],'b')\n",
    "plt.show()\n",
    "model.save('jena_gru_dropout.h5')"
   ]
  },
  {
   "cell_type": "code",
   "execution_count": null,
   "metadata": {},
   "outputs": [],
   "source": [
    "# Also bi-directional LSTM and GRU"
   ]
  }
 ],
 "metadata": {
  "kernelspec": {
   "display_name": "Python 3",
   "language": "python",
   "name": "python3"
  },
  "language_info": {
   "codemirror_mode": {
    "name": "ipython",
    "version": 3
   },
   "file_extension": ".py",
   "mimetype": "text/x-python",
   "name": "python",
   "nbconvert_exporter": "python",
   "pygments_lexer": "ipython3",
   "version": "3.6.6"
  }
 },
 "nbformat": 4,
 "nbformat_minor": 2
}
