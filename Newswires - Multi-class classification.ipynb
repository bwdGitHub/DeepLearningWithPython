{
 "cells": [
  {
   "cell_type": "code",
   "execution_count": 1,
   "metadata": {},
   "outputs": [
    {
     "name": "stderr",
     "output_type": "stream",
     "text": [
      "Using TensorFlow backend.\n"
     ]
    },
    {
     "name": "stdout",
     "output_type": "stream",
     "text": [
      "Downloading data from https://s3.amazonaws.com/text-datasets/reuters.npz\n",
      "2113536/2110848 [==============================] - 3s 1us/step\n"
     ]
    }
   ],
   "source": [
    "from keras.datasets import reuters\n",
    "(train_data, train_labels), (test_data,test_labels) = reuters.load_data(num_words = 10000)"
   ]
  },
  {
   "cell_type": "code",
   "execution_count": 4,
   "metadata": {},
   "outputs": [],
   "source": [
    "import numpy as np\n",
    "def vectorize(seq, dim=10000):\n",
    "    res = np.zeros((len(seq),dim))\n",
    "    for i, s in enumerate(seq):\n",
    "        res[i,s] = 1.\n",
    "    return res\n",
    "x = vectorize(train_data)\n",
    "xTest = vectorize(test_data)\n",
    "\n",
    "from keras.utils.np_utils import to_categorical\n",
    "y = to_categorical(train_labels)\n",
    "yTest = to_categorical(test_labels)"
   ]
  },
  {
   "cell_type": "code",
   "execution_count": 5,
   "metadata": {
    "collapsed": true
   },
   "outputs": [],
   "source": [
    "from keras import models\n",
    "from keras import layers\n",
    "model = models.Sequential()\n",
    "model.add(layers.Dense(64, activation = 'relu',input_shape = (10000,)))\n",
    "model.add(layers.Dense(64, activation = 'relu'))\n",
    "model.add(layers.Dense(46, activation = 'softmax'))"
   ]
  },
  {
   "cell_type": "code",
   "execution_count": 6,
   "metadata": {
    "collapsed": true
   },
   "outputs": [],
   "source": [
    "model.compile(optimizer = 'rmsprop', loss = 'categorical_crossentropy',metrics = ['accuracy'])"
   ]
  },
  {
   "cell_type": "code",
   "execution_count": 7,
   "metadata": {
    "collapsed": true
   },
   "outputs": [],
   "source": [
    "xv = x[:1000]\n",
    "yv = y[:1000]\n",
    "xt = x[1000:]\n",
    "yt = y[1000:]"
   ]
  },
  {
   "cell_type": "code",
   "execution_count": 8,
   "metadata": {},
   "outputs": [
    {
     "name": "stdout",
     "output_type": "stream",
     "text": [
      "Train on 7982 samples, validate on 1000 samples\n",
      "Epoch 1/20\n",
      "7982/7982 [==============================] - 1s 178us/step - loss: 2.5247 - acc: 0.4954 - val_loss: 1.7099 - val_acc: 0.6130\n",
      "Epoch 2/20\n",
      "7982/7982 [==============================] - 1s 138us/step - loss: 1.4390 - acc: 0.6903 - val_loss: 1.3425 - val_acc: 0.7090\n",
      "Epoch 3/20\n",
      "7982/7982 [==============================] - 1s 138us/step - loss: 1.0907 - acc: 0.7647 - val_loss: 1.1638 - val_acc: 0.7420\n",
      "Epoch 4/20\n",
      "7982/7982 [==============================] - 1s 142us/step - loss: 0.8658 - acc: 0.8168 - val_loss: 1.0633 - val_acc: 0.7650\n",
      "Epoch 5/20\n",
      "7982/7982 [==============================] - 1s 138us/step - loss: 0.7001 - acc: 0.8490 - val_loss: 0.9831 - val_acc: 0.7820\n",
      "Epoch 6/20\n",
      "7982/7982 [==============================] - 1s 141us/step - loss: 0.5640 - acc: 0.8801 - val_loss: 0.9463 - val_acc: 0.8010\n",
      "Epoch 7/20\n",
      "7982/7982 [==============================] - 1s 139us/step - loss: 0.4577 - acc: 0.9053 - val_loss: 0.9128 - val_acc: 0.8010\n",
      "Epoch 8/20\n",
      "7982/7982 [==============================] - 1s 141us/step - loss: 0.3711 - acc: 0.9225 - val_loss: 0.9380 - val_acc: 0.7900\n",
      "Epoch 9/20\n",
      "7982/7982 [==============================] - 1s 140us/step - loss: 0.3048 - acc: 0.9307 - val_loss: 0.8900 - val_acc: 0.8100\n",
      "Epoch 10/20\n",
      "7982/7982 [==============================] - 1s 139us/step - loss: 0.2536 - acc: 0.9412 - val_loss: 0.9115 - val_acc: 0.8060\n",
      "Epoch 11/20\n",
      "7982/7982 [==============================] - 1s 140us/step - loss: 0.2198 - acc: 0.9475 - val_loss: 0.9075 - val_acc: 0.8150\n",
      "Epoch 12/20\n",
      "7982/7982 [==============================] - 1s 140us/step - loss: 0.1867 - acc: 0.9504 - val_loss: 0.9038 - val_acc: 0.8160\n",
      "Epoch 13/20\n",
      "7982/7982 [==============================] - 1s 140us/step - loss: 0.1714 - acc: 0.9526 - val_loss: 0.9325 - val_acc: 0.8120\n",
      "Epoch 14/20\n",
      "7982/7982 [==============================] - 1s 142us/step - loss: 0.1539 - acc: 0.9548 - val_loss: 0.9719 - val_acc: 0.8040\n",
      "Epoch 15/20\n",
      "7982/7982 [==============================] - 1s 140us/step - loss: 0.1390 - acc: 0.9557 - val_loss: 0.9625 - val_acc: 0.8160\n",
      "Epoch 16/20\n",
      "7982/7982 [==============================] - 1s 138us/step - loss: 0.1303 - acc: 0.9563 - val_loss: 1.0265 - val_acc: 0.8030\n",
      "Epoch 17/20\n",
      "7982/7982 [==============================] - 1s 140us/step - loss: 0.1222 - acc: 0.9578 - val_loss: 1.0234 - val_acc: 0.7980\n",
      "Epoch 18/20\n",
      "7982/7982 [==============================] - 1s 140us/step - loss: 0.1196 - acc: 0.9577 - val_loss: 1.0387 - val_acc: 0.8040\n",
      "Epoch 19/20\n",
      "7982/7982 [==============================] - 1s 140us/step - loss: 0.1132 - acc: 0.9592 - val_loss: 1.0931 - val_acc: 0.7970\n",
      "Epoch 20/20\n",
      "7982/7982 [==============================] - 1s 143us/step - loss: 0.1109 - acc: 0.9590 - val_loss: 1.0680 - val_acc: 0.8040\n"
     ]
    }
   ],
   "source": [
    "hist = model.fit(xt,yt, epochs = 20, batch_size = 510, validation_data=(xv,yv))"
   ]
  },
  {
   "cell_type": "code",
   "execution_count": 9,
   "metadata": {},
   "outputs": [
    {
     "data": {
      "image/png": "[encoded data removed]",
      "text/plain": [
       "<matplotlib.figure.Figure at 0xee8bf98>"
      ]
     },
     "metadata": {},
     "output_type": "display_data"
    }
   ],
   "source": [
    "import matplotlib.pyplot as plt\n",
    "loss = hist.history['loss']\n",
    "vloss = hist.history['val_loss']\n",
    "epochs = range(1,len(loss)+1)\n",
    "plt.plot(epochs, loss,'bo',label = 'Train loss')\n",
    "plt.plot(epochs, vloss, 'b',label = 'Val loss')\n",
    "plt.show()"
   ]
  },
  {
   "cell_type": "code",
   "execution_count": null,
   "metadata": {
    "collapsed": true
   },
   "outputs": [],
   "source": []
  }
 ],
 "metadata": {
  "kernelspec": {
   "display_name": "Python 3",
   "language": "python",
   "name": "python3"
  },
  "language_info": {
   "codemirror_mode": {
    "name": "ipython",
    "version": 3
   },
   "file_extension": ".py",
   "mimetype": "text/x-python",
   "name": "python",
   "nbconvert_exporter": "python",
   "pygments_lexer": "ipython3",
   "version": "3.5.3"
  }
 },
 "nbformat": 4,
 "nbformat_minor": 2
}
